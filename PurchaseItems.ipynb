{
 "cells": [
  {
   "cell_type": "markdown",
   "id": "d170a9d6",
   "metadata": {},
   "source": [
    "# Defining Funtion for displaying Records from the Inventory"
   ]
  },
  {
   "cell_type": "code",
   "execution_count": 1,
   "id": "e9eac083",
   "metadata": {},
   "outputs": [],
   "source": [
    "def display():\n",
    "    print(\"Items in Inventory Are: \\n\")\n",
    "\n",
    "    print (\"{:<18} {:<18} {:<18} {:<18} {:<18} {:<18}\".format('PRODUCT ID', 'PRODUCT NAME', 'PRICE','QUANTITY', 'Manufacturing Date', 'Expiry Date'))\n",
    "\n",
    "    for key, value in records.items():\n",
    "         print (\"{:<18} {:<18} {:<18} {:<18} {:<18} {:<18}\".format(key, value['name'], value['pr'], value['qn'], value['manDate'], value['expDate']))\n",
    "            "
   ]
  },
  {
   "cell_type": "markdown",
   "id": "cd555ee9",
   "metadata": {},
   "source": [
    "# Reading the data from the file"
   ]
  },
  {
   "cell_type": "code",
   "execution_count": 3,
   "id": "5c2c4c42",
   "metadata": {},
   "outputs": [],
   "source": [
    "import json\n",
    "\n",
    "f = open(\"record.json\",\"r\")\n",
    "r = f.read()\n",
    "f.close()\n",
    "\n",
    "records = json.loads(r)"
   ]
  },
  {
   "cell_type": "markdown",
   "id": "45f8c8cb",
   "metadata": {},
   "source": [
    "# Displaying Records from the Inventory"
   ]
  },
  {
   "cell_type": "code",
   "execution_count": 4,
   "id": "e3336fa8",
   "metadata": {},
   "outputs": [
    {
     "name": "stdout",
     "output_type": "stream",
     "text": [
      "Items in Inventory Are: \n",
      "\n",
      "PRODUCT ID         PRODUCT NAME       PRICE              QUANTITY           Manufacturing Date Expiry Date       \n",
      "1001               Choco Cake         100                34                 2020-12-01         2022-12-01        \n",
      "1002               Milk Cake          800                100                2021-02-01         2024-02-01        \n",
      "1003               Drink              85                 100                2020-11-11         2023-11-11        \n",
      "1004               Candy              5                  1000               2020-12-10         2022-12-10        \n",
      "1005               Pen                20                 100                2020-12-11         2023-12-11        \n",
      "1006               Phone              50000              10                 2021-02-11         2024-02-11        \n",
      "1007               Mic                1500               50                 2020-10-11         2024-10-11        \n",
      "1008               Case               599                5                  2021-04-15         2023-04-15        \n",
      "1009               Keyboard           1999               10                 2021-02-10         2022-02-10        \n",
      "1010               Speakers           400                50                 2021-04-02         2022-10-01        \n",
      "1011               Headphones         500                200                2020-12-01         2023-02-01        \n",
      "1012               Dairy milk         10                 1000               2021-06-01         2021-12-12        \n",
      "1013               5 star             10                 5000               2021-08-07         2022-01-01        \n",
      "1014               Milky bar          20                 1000               2021-02-01         2021-08-03        \n",
      "1015               Delux              20                 500                2020-12-31         2021-10-01        \n",
      "1016               Lays               10                 3000               2021-09-02         2022-01-23        \n",
      "1017               Maggie             10                 10000              2021-04-05         2022-10-02        \n",
      "1018               Mouse              200                2000               2021-03-02         2023-01-25        \n",
      "1019               Cpu                20000              10                 2021-06-03         2024-01-04        \n",
      "1020               Ups                4000               40                 2021-03-04         2023-04-03        \n",
      "1021               Register           50                 40                 2021-05-04         2024-06-02        \n",
      "1022               Pencil             5                  10000              2020-01-02         2025-04-02        \n",
      "1023               Charger            300                500                2021-05-25         2024-01-05        \n",
      "1024               Eraser             5                  10000              2019-12-13         2025-02-01        \n",
      "1025               Color              30                 100                2020-01-03         2022-04-02        \n",
      "1026               Butter             40                 300                2021-05-02         2021-12-12        \n",
      "1027               Memory card        400                20                 2021-03-03         2022-03-01        \n",
      "1028               Pen drive          600                100                2019-04-02         2021-12-01        \n",
      "1029               Ssd                5000               10                 2021-01-01         2025-01-02        \n",
      "1030               Hdd                5000               20                 2020-03-04         2025-04-04        \n"
     ]
    }
   ],
   "source": [
    "display()"
   ]
  },
  {
   "cell_type": "markdown",
   "id": "10ce2542",
   "metadata": {},
   "source": [
    "# Purchase"
   ]
  },
  {
   "cell_type": "code",
   "execution_count": 65,
   "id": "7be97383",
   "metadata": {},
   "outputs": [
    {
     "name": "stdout",
     "output_type": "stream",
     "text": [
      "Enter the Product ID: 1019\n",
      "Enter the Quantity: 5\n",
      "\n",
      "PRODUCT ID     PRODUCT NAME   PRICE          QUANTITY      \n",
      "1019           Cpu            20000          5             \n",
      "\n",
      "--------------------------------------------------------\n",
      "Billing Amount:  100000\n"
     ]
    }
   ],
   "source": [
    "ui_prod = input(\"Enter the Product ID: \")\n",
    "quant = int(input(\"Enter the Quantity: \"))\n",
    "\n",
    "if not ui_prod in records:\n",
    "    print(\"Sorry! This Product is not available in our Inventory..\")\n",
    "else:\n",
    "    print()\n",
    "    if quant > records[ui_prod]['qn']:\n",
    "        print(\"Sorry! Insufficient Quantity!\")\n",
    "    else:\n",
    "        print (\"{:<14} {:<14} {:<14} {:<14}\".format('PRODUCT ID', 'PRODUCT NAME', 'PRICE','QUANTITY'))\n",
    "        print (\"{:<14} {:<14} {:<14} {:<14}\".format(ui_prod, records[ui_prod]['name'], records[ui_prod]['pr'],quant))\n",
    "        print()\n",
    "        print('-'*56)\n",
    "        print(\"Billing Amount: \", records[ui_prod]['pr'] * quant)\n",
    "        records[ui_prod]['qn'] = records[ui_prod]['qn'] - quant\n",
    "    "
   ]
  },
  {
   "cell_type": "markdown",
   "id": "90523ab4",
   "metadata": {},
   "source": [
    "# Updating Inventory After Purchase"
   ]
  },
  {
   "cell_type": "code",
   "execution_count": 66,
   "id": "779b4c32",
   "metadata": {},
   "outputs": [
    {
     "data": {
      "text/plain": [
       "{'1001': {'name': 'Choco Cake',\n",
       "  'qn': 32,\n",
       "  'pr': 100,\n",
       "  'manDate': '2020-12-01',\n",
       "  'expDate': '2022-12-01'},\n",
       " '1002': {'name': 'Milk Cake',\n",
       "  'pr': 800,\n",
       "  'qn': 90,\n",
       "  'manDate': '2021-02-01',\n",
       "  'expDate': '2024-02-01'},\n",
       " '1003': {'name': 'Drink',\n",
       "  'pr': 85,\n",
       "  'qn': 100,\n",
       "  'manDate': '2020-11-11',\n",
       "  'expDate': '2023-11-11'},\n",
       " '1004': {'name': 'Candy',\n",
       "  'pr': 5,\n",
       "  'qn': 1000,\n",
       "  'manDate': '2020-12-10',\n",
       "  'expDate': '2022-12-10'},\n",
       " '1005': {'name': 'Pen',\n",
       "  'pr': 20,\n",
       "  'qn': 94,\n",
       "  'manDate': '2020-12-11',\n",
       "  'expDate': '2023-12-11'},\n",
       " '1006': {'name': 'Phone',\n",
       "  'pr': 50000,\n",
       "  'qn': 6,\n",
       "  'manDate': '2021-02-11',\n",
       "  'expDate': '2024-02-11'},\n",
       " '1007': {'name': 'Mic',\n",
       "  'pr': 1500,\n",
       "  'qn': 50,\n",
       "  'manDate': '2020-10-11',\n",
       "  'expDate': '2024-10-11'},\n",
       " '1008': {'name': 'Case',\n",
       "  'pr': 599,\n",
       "  'qn': 5,\n",
       "  'manDate': '2021-04-15',\n",
       "  'expDate': '2023-04-15'},\n",
       " '1009': {'name': 'Keyboard',\n",
       "  'pr': 1999,\n",
       "  'qn': 10,\n",
       "  'manDate': '2021-02-10',\n",
       "  'expDate': '2022-02-10'},\n",
       " '1010': {'name': 'Speakers',\n",
       "  'pr': 400,\n",
       "  'qn': 47,\n",
       "  'manDate': '2021-04-02',\n",
       "  'expDate': '2022-10-01'},\n",
       " '1011': {'name': 'Headphones',\n",
       "  'pr': 500,\n",
       "  'qn': 200,\n",
       "  'manDate': '2020-12-01',\n",
       "  'expDate': '2023-02-01'},\n",
       " '1012': {'name': 'Dairy milk',\n",
       "  'pr': 10,\n",
       "  'qn': 1000,\n",
       "  'manDate': '2021-06-01',\n",
       "  'expDate': '2021-12-12'},\n",
       " '1013': {'name': '5 star',\n",
       "  'pr': 10,\n",
       "  'qn': 4990,\n",
       "  'manDate': '2021-08-07',\n",
       "  'expDate': '2022-01-01'},\n",
       " '1014': {'name': 'Milky bar',\n",
       "  'pr': 20,\n",
       "  'qn': 1000,\n",
       "  'manDate': '2021-02-01',\n",
       "  'expDate': '2021-08-03'},\n",
       " '1015': {'name': 'Delux',\n",
       "  'pr': 20,\n",
       "  'qn': 500,\n",
       "  'manDate': '2020-12-31',\n",
       "  'expDate': '2021-10-01'},\n",
       " '1016': {'name': 'Lays',\n",
       "  'pr': 10,\n",
       "  'qn': 3000,\n",
       "  'manDate': '2021-09-02',\n",
       "  'expDate': '2022-01-23'},\n",
       " '1017': {'name': 'Maggie',\n",
       "  'pr': 10,\n",
       "  'qn': 10000,\n",
       "  'manDate': '2021-04-05',\n",
       "  'expDate': '2022-10-02'},\n",
       " '1018': {'name': 'Mouse',\n",
       "  'pr': 200,\n",
       "  'qn': 2000,\n",
       "  'manDate': '2021-03-02',\n",
       "  'expDate': '2023-01-25'},\n",
       " '1019': {'name': 'Cpu',\n",
       "  'pr': 20000,\n",
       "  'qn': 5,\n",
       "  'manDate': '2021-06-03',\n",
       "  'expDate': '2024-01-04'},\n",
       " '1020': {'name': 'Ups',\n",
       "  'pr': 4000,\n",
       "  'qn': 27,\n",
       "  'manDate': '2021-03-04',\n",
       "  'expDate': '2023-04-03'},\n",
       " '1021': {'name': 'Register',\n",
       "  'pr': 50,\n",
       "  'qn': 40,\n",
       "  'manDate': '2021-05-04',\n",
       "  'expDate': '2024-06-02'},\n",
       " '1022': {'name': 'Pencil',\n",
       "  'pr': 5,\n",
       "  'qn': 9988,\n",
       "  'manDate': '2020-01-02',\n",
       "  'expDate': '2025-04-02'},\n",
       " '1023': {'name': 'Charger',\n",
       "  'pr': 300,\n",
       "  'qn': 500,\n",
       "  'manDate': '2021-05-25',\n",
       "  'expDate': '2024-01-05'},\n",
       " '1024': {'name': 'Eraser',\n",
       "  'pr': 5,\n",
       "  'qn': 10000,\n",
       "  'manDate': '2019-12-13',\n",
       "  'expDate': '2025-02-01'},\n",
       " '1025': {'name': 'Color',\n",
       "  'pr': 30,\n",
       "  'qn': 100,\n",
       "  'manDate': '2020-01-03',\n",
       "  'expDate': '2022-04-02'},\n",
       " '1026': {'name': 'Butter',\n",
       "  'pr': 40,\n",
       "  'qn': 300,\n",
       "  'manDate': '2021-05-02',\n",
       "  'expDate': '2021-12-12'},\n",
       " '1027': {'name': 'Memory card',\n",
       "  'pr': 400,\n",
       "  'qn': 20,\n",
       "  'manDate': '2021-03-03',\n",
       "  'expDate': '2022-03-01'},\n",
       " '1028': {'name': 'Pen drive',\n",
       "  'pr': 600,\n",
       "  'qn': 100,\n",
       "  'manDate': '2019-04-02',\n",
       "  'expDate': '2021-12-01'},\n",
       " '1029': {'name': 'Ssd',\n",
       "  'pr': 5000,\n",
       "  'qn': 10,\n",
       "  'manDate': '2021-01-01',\n",
       "  'expDate': '2025-01-02'},\n",
       " '1030': {'name': 'Hdd',\n",
       "  'pr': 5000,\n",
       "  'qn': 20,\n",
       "  'manDate': '2020-03-04',\n",
       "  'expDate': '2025-04-04'}}"
      ]
     },
     "execution_count": 66,
     "metadata": {},
     "output_type": "execute_result"
    }
   ],
   "source": [
    "js = json.dumps(records)\n",
    "f = open(\"record.json\",'w')\n",
    "f.write(js)\n",
    "f.close()\n",
    "records"
   ]
  },
  {
   "cell_type": "markdown",
   "id": "90a64a3b",
   "metadata": {},
   "source": [
    "# Displaying Updated Records"
   ]
  },
  {
   "cell_type": "code",
   "execution_count": 75,
   "id": "10966a68",
   "metadata": {},
   "outputs": [
    {
     "name": "stdout",
     "output_type": "stream",
     "text": [
      "Items in Inventory Are: \n",
      "\n",
      "PRODUCT ID         PRODUCT NAME       PRICE              QUANTITY           Manufacturing Date Expiry Date       \n",
      "1001               Choco Cake         100                32                 2020-12-01         2022-12-01        \n",
      "1002               Milk Cake          800                90                 2021-02-01         2024-02-01        \n",
      "1003               Drink              85                 100                2020-11-11         2023-11-11        \n",
      "1004               Candy              5                  1000               2020-12-10         2022-12-10        \n",
      "1005               Pen                20                 94                 2020-12-11         2023-12-11        \n",
      "1006               Phone              50000              6                  2021-02-11         2024-02-11        \n",
      "1007               Mic                1500               50                 2020-10-11         2024-10-11        \n",
      "1008               Case               599                5                  2021-04-15         2023-04-15        \n",
      "1009               Keyboard           1999               10                 2021-02-10         2022-02-10        \n",
      "1010               Speakers           400                47                 2021-04-02         2022-10-01        \n",
      "1011               Headphones         500                200                2020-12-01         2023-02-01        \n",
      "1012               Dairy milk         10                 1000               2021-06-01         2021-12-12        \n",
      "1013               5 star             10                 4990               2021-08-07         2022-01-01        \n",
      "1014               Milky bar          20                 1000               2021-02-01         2021-08-03        \n",
      "1015               Delux              20                 500                2020-12-31         2021-10-01        \n",
      "1016               Lays               10                 3000               2021-09-02         2022-01-23        \n",
      "1017               Maggie             10                 10000              2021-04-05         2022-10-02        \n",
      "1018               Mouse              200                2000               2021-03-02         2023-01-25        \n",
      "1019               Cpu                20000              5                  2021-06-03         2024-01-04        \n",
      "1020               Ups                4000               27                 2021-03-04         2023-04-03        \n",
      "1021               Register           50                 40                 2021-05-04         2024-06-02        \n",
      "1022               Pencil             5                  9988               2020-01-02         2025-04-02        \n",
      "1023               Charger            300                500                2021-05-25         2024-01-05        \n",
      "1024               Eraser             5                  10000              2019-12-13         2025-02-01        \n",
      "1025               Color              30                 100                2020-01-03         2022-04-02        \n",
      "1026               Butter             40                 300                2021-05-02         2021-12-12        \n",
      "1027               Memory card        400                20                 2021-03-03         2022-03-01        \n",
      "1028               Pen drive          600                100                2019-04-02         2021-12-01        \n",
      "1029               Ssd                5000               10                 2021-01-01         2025-01-02        \n",
      "1030               Hdd                5000               20                 2020-03-04         2025-04-04        \n"
     ]
    }
   ],
   "source": [
    "display()"
   ]
  },
  {
   "cell_type": "markdown",
   "id": "31aead3f",
   "metadata": {},
   "source": [
    "#  Creating sales.json file"
   ]
  },
  {
   "cell_type": "code",
   "execution_count": 77,
   "id": "9204c766",
   "metadata": {},
   "outputs": [
    {
     "data": {
      "text/plain": [
       "{'1': {'prod': '1001',\n",
       "  'qn': 2,\n",
       "  'amount': 200,\n",
       "  'pr': 100,\n",
       "  'time': 'Mon Sep  6 17:07:13 2021'},\n",
       " '2': {'prod': '1013',\n",
       "  'qn': 10,\n",
       "  'amount': 100,\n",
       "  'pr': 10,\n",
       "  'time': 'Mon Sep  6 17:13:08 2021'},\n",
       " '3': {'prod': '1001',\n",
       "  'qn': 2,\n",
       "  'amount': 200,\n",
       "  'pr': 100,\n",
       "  'time': 'Mon Sep  6 17:13:44 2021'},\n",
       " '4': {'prod': '1002',\n",
       "  'qn': 10,\n",
       "  'amount': 8000,\n",
       "  'pr': 800,\n",
       "  'time': 'Mon Sep  6 17:14:18 2021'},\n",
       " '5': {'prod': '1010',\n",
       "  'qn': 3,\n",
       "  'amount': 1200,\n",
       "  'pr': 400,\n",
       "  'time': 'Mon Sep  6 17:15:10 2021'},\n",
       " '6': {'prod': '1005',\n",
       "  'qn': 6,\n",
       "  'amount': 120,\n",
       "  'pr': 20,\n",
       "  'time': 'Mon Sep  6 17:15:44 2021'},\n",
       " '7': {'prod': '1022',\n",
       "  'qn': 12,\n",
       "  'amount': 60,\n",
       "  'pr': 5,\n",
       "  'time': 'Mon Sep  6 17:16:10 2021'},\n",
       " '8': {'prod': '1020',\n",
       "  'qn': 13,\n",
       "  'amount': 52000,\n",
       "  'pr': 4000,\n",
       "  'time': 'Mon Sep  6 17:17:08 2021'},\n",
       " '9': {'prod': '1006',\n",
       "  'qn': 4,\n",
       "  'amount': 200000,\n",
       "  'pr': 50000,\n",
       "  'time': 'Mon Sep  6 17:17:43 2021'},\n",
       " '10': {'prod': '1019',\n",
       "  'qn': 5,\n",
       "  'amount': 100000,\n",
       "  'pr': 20000,\n",
       "  'time': 'Mon Sep  6 17:18:06 2021'}}"
      ]
     },
     "execution_count": 77,
     "metadata": {},
     "output_type": "execute_result"
    }
   ],
   "source": [
    "f = open(\"sales.json\",\"r\")\n",
    "r = f.read()\n",
    "l = json.loads(r)\n",
    "l"
   ]
  },
  {
   "cell_type": "code",
   "execution_count": 68,
   "id": "c9b81757",
   "metadata": {},
   "outputs": [],
   "source": [
    "import time\n",
    "t = time.ctime()\n",
    "\n",
    "l[len(l)+1] = {'prod' : ui_prod, 'qn' : quant, 'amount': records[ui_prod]['pr'] * quant, 'pr' : records[ui_prod]['pr'] ,'time' : t}"
   ]
  },
  {
   "cell_type": "code",
   "execution_count": 69,
   "id": "a234e4b2",
   "metadata": {},
   "outputs": [],
   "source": [
    "sale = json.dumps(l)\n",
    "f = open(\"sales.json\",\"w\")\n",
    "f.write(sale)\n",
    "f.close()"
   ]
  },
  {
   "cell_type": "markdown",
   "id": "b9b72c37",
   "metadata": {},
   "source": [
    "# Displaying Sale"
   ]
  },
  {
   "cell_type": "code",
   "execution_count": 80,
   "id": "22197800",
   "metadata": {},
   "outputs": [
    {
     "name": "stdout",
     "output_type": "stream",
     "text": [
      "Sales: \n",
      "\n",
      "Transaction ID     Product ID         Quantity           Amount             Price              Date & Time       \n",
      "1                  1001               2                  200                100                Mon Sep  6 17:07:13 2021\n",
      "2                  1013               10                 100                10                 Mon Sep  6 17:13:08 2021\n",
      "3                  1001               2                  200                100                Mon Sep  6 17:13:44 2021\n",
      "4                  1002               10                 8000               800                Mon Sep  6 17:14:18 2021\n",
      "5                  1010               3                  1200               400                Mon Sep  6 17:15:10 2021\n",
      "6                  1005               6                  120                20                 Mon Sep  6 17:15:44 2021\n",
      "7                  1022               12                 60                 5                  Mon Sep  6 17:16:10 2021\n",
      "8                  1020               13                 52000              4000               Mon Sep  6 17:17:08 2021\n",
      "9                  1006               4                  200000             50000              Mon Sep  6 17:17:43 2021\n",
      "10                 1019               5                  100000             20000              Mon Sep  6 17:18:06 2021\n"
     ]
    }
   ],
   "source": [
    "\n",
    "print(\"Sales: \\n\")\n",
    "\n",
    "print (\"{:<18} {:<18} {:<18} {:<18} {:<18} {:<18}\".format('Transaction ID','Product ID','Quantity', 'Amount', 'Price', 'Date & Time'))\n",
    "\n",
    "for key, value in l.items():\n",
    "         print (\"{:<18} {:<18} {:<18} {:<18} {:<18} {:<18}\".format(key, value['prod'], value['qn'], value['amount'], value['pr'], value['time']))\n",
    "            "
   ]
  },
  {
   "cell_type": "code",
   "execution_count": null,
   "id": "dccbc7a5",
   "metadata": {},
   "outputs": [],
   "source": []
  }
 ],
 "metadata": {
  "kernelspec": {
   "display_name": "Python 3",
   "language": "python",
   "name": "python3"
  },
  "language_info": {
   "codemirror_mode": {
    "name": "ipython",
    "version": 3
   },
   "file_extension": ".py",
   "mimetype": "text/x-python",
   "name": "python",
   "nbconvert_exporter": "python",
   "pygments_lexer": "ipython3",
   "version": "3.8.8"
  }
 },
 "nbformat": 4,
 "nbformat_minor": 5
}
