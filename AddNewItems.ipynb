{
 "cells": [
  {
   "cell_type": "markdown",
   "id": "6840ce8a",
   "metadata": {},
   "source": [
    "# Defining Funtion for displaying Records from the Inventory"
   ]
  },
  {
   "cell_type": "code",
   "execution_count": 80,
   "id": "1c79cdaf",
   "metadata": {},
   "outputs": [],
   "source": [
    "def display():\n",
    "    print(\"Items in Inventory Are: \\n\")\n",
    "\n",
    "    print (\"{:<18} {:<18} {:<18} {:<18} {:<18} {:<18}\".format('PRODUCT ID', 'PRODUCT NAME', 'PRICE','QUANTITY', 'Manufacturing Date', 'Expiry Date'))\n",
    "\n",
    "    for key, value in records.items():\n",
    "         print (\"{:<18} {:<18} {:<18} {:<18} {:<18} {:<18}\".format(key, value['name'], value['pr'], value['qn'], value['manDate'], value['expDate']))\n",
    "            "
   ]
  },
  {
   "cell_type": "markdown",
   "id": "528f08f4",
   "metadata": {},
   "source": [
    "# Reading the data from the file"
   ]
  },
  {
   "cell_type": "code",
   "execution_count": 81,
   "id": "2d755c36",
   "metadata": {},
   "outputs": [],
   "source": [
    "import json\n",
    "\n",
    "f = open(\"record.json\",\"r\")\n",
    "r = f.read()\n",
    "f.close()\n",
    "\n",
    "records = json.loads(r)"
   ]
  },
  {
   "cell_type": "markdown",
   "id": "1015aaba",
   "metadata": {},
   "source": [
    "# Adding new Attributes (Manufacturing Date & Expiry Date) to the Products"
   ]
  },
  {
   "cell_type": "code",
   "execution_count": 82,
   "id": "e4a5c1d0",
   "metadata": {},
   "outputs": [
    {
     "data": {
      "text/plain": [
       "{'1001': {'name': 'Choco Cake',\n",
       "  'qn': 34,\n",
       "  'pr': 100,\n",
       "  'manDate': '2020-12-01',\n",
       "  'expDate': '2022-12-01'},\n",
       " '1002': {'name': 'Milk Cake',\n",
       "  'pr': 800,\n",
       "  'qn': 100,\n",
       "  'manDate': '2021-02-01',\n",
       "  'expDate': '2024-02-01'},\n",
       " '1003': {'name': 'Drink',\n",
       "  'pr': 85,\n",
       "  'qn': 100,\n",
       "  'manDate': '2020-11-11',\n",
       "  'expDate': '2023-11-11'},\n",
       " '1004': {'name': 'Candy',\n",
       "  'pr': 5,\n",
       "  'qn': 1000,\n",
       "  'manDate': '2020-12-10',\n",
       "  'expDate': '2022-12-10'},\n",
       " '1005': {'name': 'Pen',\n",
       "  'pr': 20,\n",
       "  'qn': 100,\n",
       "  'manDate': '2020-12-11',\n",
       "  'expDate': '2023-12-11'},\n",
       " '1006': {'name': 'Phone',\n",
       "  'pr': 50000,\n",
       "  'qn': 10,\n",
       "  'manDate': '2021-02-11',\n",
       "  'expDate': '2024-02-11'},\n",
       " '1007': {'name': 'Mic',\n",
       "  'pr': 1500,\n",
       "  'qn': 0,\n",
       "  'manDate': '2020-10-11',\n",
       "  'expDate': '2024-10-11'},\n",
       " '1008': {'name': 'Case',\n",
       "  'pr': 599,\n",
       "  'qn': 5,\n",
       "  'manDate': '2021-04-15',\n",
       "  'expDate': '2023-04-15'},\n",
       " '1009': {'name': 'Keyboard',\n",
       "  'pr': 1999,\n",
       "  'qn': 10,\n",
       "  'manDate': '2021-02-10',\n",
       "  'expDate': '2022-02-10'}}"
      ]
     },
     "execution_count": 82,
     "metadata": {},
     "output_type": "execute_result"
    }
   ],
   "source": [
    "import datetime\n",
    "\n",
    "# Adding Manufacturing Date\n",
    "records['1001']['manDate'] =  str( datetime.date(2020,12,1))\n",
    "records['1002']['manDate'] = str(  datetime.date(2021,2,1))\n",
    "records['1003']['manDate'] =   str(datetime.date(2020,11,11))\n",
    "records['1004']['manDate'] =   str(datetime.date(2020,12,10))\n",
    "records['1005']['manDate'] =   str(datetime.date(2020,12,11))\n",
    "records['1006']['manDate'] =  str( datetime.date(2021,2,11))\n",
    "records['1007']['manDate'] =   str(datetime.date(2020,10,11))\n",
    "records['1008']['manDate'] =  str( datetime.date(2021,4,15))\n",
    "records['1009']['manDate'] =  str( datetime.date(2021,2,10))\n",
    "\n",
    "# Adding Expiry date\n",
    "records['1001']['expDate'] =  str( datetime.date(2022,12,1))\n",
    "records['1002']['expDate'] = str(  datetime.date(2024,2,1))\n",
    "records['1003']['expDate'] =   str(datetime.date(2023,11,11))\n",
    "records['1004']['expDate'] =   str(datetime.date(2022,12,10))\n",
    "records['1005']['expDate'] =   str(datetime.date(2023,12,11))\n",
    "records['1006']['expDate'] =  str( datetime.date(2024,2,11))\n",
    "records['1007']['expDate'] =   str(datetime.date(2024,10,11))\n",
    "records['1008']['expDate'] =  str( datetime.date(2023,4,15))\n",
    "records['1009']['expDate'] =  str( datetime.date(2022,2,10))\n",
    "\n",
    "\n",
    "records"
   ]
  },
  {
   "cell_type": "markdown",
   "id": "fc63b198",
   "metadata": {},
   "source": [
    "# Updating in the Inventory"
   ]
  },
  {
   "cell_type": "code",
   "execution_count": 83,
   "id": "03881c7f",
   "metadata": {},
   "outputs": [],
   "source": [
    "js = json.dumps(records)\n",
    "f = open(\"record.json\",'w')\n",
    "f.write(js)\n",
    "f.close()\n"
   ]
  },
  {
   "cell_type": "markdown",
   "id": "e59250df",
   "metadata": {},
   "source": [
    "# Displaying Records from the Inventory"
   ]
  },
  {
   "cell_type": "code",
   "execution_count": 104,
   "id": "9378d9ad",
   "metadata": {},
   "outputs": [
    {
     "name": "stdout",
     "output_type": "stream",
     "text": [
      "Items in Inventory Are: \n",
      "\n",
      "PRODUCT ID         PRODUCT NAME       PRICE              QUANTITY           Manufacturing Date Expiry Date       \n",
      "1001               Choco Cake         100                34                 2020-12-01         2022-12-01        \n",
      "1002               Milk Cake          800                100                2021-02-01         2024-02-01        \n",
      "1003               Drink              85                 100                2020-11-11         2023-11-11        \n",
      "1004               Candy              5                  1000               2020-12-10         2022-12-10        \n",
      "1005               Pen                20                 100                2020-12-11         2023-12-11        \n",
      "1006               Phone              50000              10                 2021-02-11         2024-02-11        \n",
      "1007               Mic                1500               0                  2020-10-11         2024-10-11        \n",
      "1008               Case               599                5                  2021-04-15         2023-04-15        \n",
      "1009               Keyboard           1999               10                 2021-02-10         2022-02-10        \n",
      "1010               Speakers           400                50                 2021-04-02         2022-10-01        \n",
      "1011               Headphones         500                200                2020-12-01         2023-02-01        \n",
      "1012               Dairy milk         10                 1000               2021-06-01         2021-12-12        \n",
      "1013               5 star             10                 5000               2021-08-07         2022-01-01        \n",
      "1014               Milky bar          20                 1000               2021-02-01         2021-08-03        \n",
      "1015               Delux              20                 500                2020-12-31         2021-10-01        \n",
      "1016               Lays               10                 3000               2021-09-02         2022-01-23        \n",
      "1017               Maggie             10                 10000              2021-04-05         2022-10-02        \n"
     ]
    }
   ],
   "source": [
    "display()"
   ]
  },
  {
   "cell_type": "markdown",
   "id": "563ecd73",
   "metadata": {},
   "source": [
    "# Defining Fuction which checks whether the product exists in the inventory or not"
   ]
  },
  {
   "cell_type": "code",
   "execution_count": 85,
   "id": "5c5a48ae",
   "metadata": {},
   "outputs": [],
   "source": [
    "def check(name, pr, prod_id):\n",
    "    for key, value in records.items():\n",
    "        if( name == value['name'] and pr == value['pr'] and prod_id in records ):\n",
    "            return True"
   ]
  },
  {
   "cell_type": "markdown",
   "id": "53f40586",
   "metadata": {},
   "source": [
    "# Add New Items to the Inventory"
   ]
  },
  {
   "cell_type": "code",
   "execution_count": 132,
   "id": "2ff10bd5",
   "metadata": {},
   "outputs": [
    {
     "name": "stdout",
     "output_type": "stream",
     "text": [
      "Enter the Product ID: 1030\n",
      "Enter the name of the Product: HDD\n",
      "Enter the Price of the Product: 5000\n",
      "Enter the Quantity: 20\n",
      "For Manufacturing Date: \n",
      "Enter a year: 2020\n",
      "Enter a month: 3\n",
      "Enter a day: 4\n",
      "For Expiry Date: \n",
      "Enter a year: 2025\n",
      "Enter a month: 4\n",
      "Enter a day: 4\n",
      "Item has been added!\n"
     ]
    }
   ],
   "source": [
    "prod_id = input(\"Enter the Product ID: \")\n",
    "name = input(\"Enter the name of the Product: \").capitalize()\n",
    "pr = int(input(\"Enter the Price of the Product: \"))\n",
    "qn = int(input(\"Enter the Quantity: \"))\n",
    "\n",
    "print(\"For Manufacturing Date: \")\n",
    "year = int(input('Enter a year: '))\n",
    "month = int(input('Enter a month: '))\n",
    "day = int(input('Enter a day: '))\n",
    "manDate = str(datetime.date(year, month, day))\n",
    "\n",
    "print(\"For Expiry Date: \")\n",
    "year = int(input('Enter a year: '))\n",
    "month = int(input('Enter a month: '))\n",
    "day = int(input('Enter a day: '))\n",
    "expDate = str(datetime.date(year, month, day))\n",
    "\n",
    "if(check(name, pr, prod_id)):\n",
    "    print(\"Already Existing, Do you want to update the Quantity?.... Y/N \")\n",
    "    ch = input()\n",
    "    if ch == 'Y' or ch == 'y':\n",
    "        records[prod_id]['qn'] = int(records[prod_id]['qn']) + qn\n",
    "        print(\"Quantity has been updated!\")\n",
    "else: \n",
    "    records[prod_id] = {'name': name, 'pr': pr, 'qn': qn, 'manDate' : manDate, 'expDate' : expDate}\n",
    "    print(\"Item has been added!\")\n",
    "\n",
    "\n",
    "js = json.dumps(records)\n",
    "f = open(\"record.json\",'w')\n",
    "f.write(js)\n",
    "f.close()\n",
    "\n"
   ]
  },
  {
   "cell_type": "markdown",
   "id": "e1bac720",
   "metadata": {},
   "source": [
    "# Displaying  Updated Inventory"
   ]
  },
  {
   "cell_type": "code",
   "execution_count": 133,
   "id": "da5717f8",
   "metadata": {},
   "outputs": [
    {
     "name": "stdout",
     "output_type": "stream",
     "text": [
      "Items in Inventory Are: \n",
      "\n",
      "PRODUCT ID         PRODUCT NAME       PRICE              QUANTITY           Manufacturing Date Expiry Date       \n",
      "1001               Choco Cake         100                34                 2020-12-01         2022-12-01        \n",
      "1002               Milk Cake          800                100                2021-02-01         2024-02-01        \n",
      "1003               Drink              85                 100                2020-11-11         2023-11-11        \n",
      "1004               Candy              5                  1000               2020-12-10         2022-12-10        \n",
      "1005               Pen                20                 100                2020-12-11         2023-12-11        \n",
      "1006               Phone              50000              10                 2021-02-11         2024-02-11        \n",
      "1007               Mic                1500               50                 2020-10-11         2024-10-11        \n",
      "1008               Case               599                5                  2021-04-15         2023-04-15        \n",
      "1009               Keyboard           1999               10                 2021-02-10         2022-02-10        \n",
      "1010               Speakers           400                50                 2021-04-02         2022-10-01        \n",
      "1011               Headphones         500                200                2020-12-01         2023-02-01        \n",
      "1012               Dairy milk         10                 1000               2021-06-01         2021-12-12        \n",
      "1013               5 star             10                 5000               2021-08-07         2022-01-01        \n",
      "1014               Milky bar          20                 1000               2021-02-01         2021-08-03        \n",
      "1015               Delux              20                 500                2020-12-31         2021-10-01        \n",
      "1016               Lays               10                 3000               2021-09-02         2022-01-23        \n",
      "1017               Maggie             10                 10000              2021-04-05         2022-10-02        \n",
      "1018               Mouse              200                2000               2021-03-02         2023-01-25        \n",
      "1019               Cpu                20000              10                 2021-06-03         2024-01-04        \n",
      "1020               Ups                4000               40                 2021-03-04         2023-04-03        \n",
      "1021               Register           50                 40                 2021-05-04         2024-06-02        \n",
      "1022               Pencil             5                  10000              2020-01-02         2025-04-02        \n",
      "1023               Charger            300                500                2021-05-25         2024-01-05        \n",
      "1024               Eraser             5                  10000              2019-12-13         2025-02-01        \n",
      "1025               Color              30                 100                2020-01-03         2022-04-02        \n",
      "1026               Butter             40                 300                2021-05-02         2021-12-12        \n",
      "1027               Memory card        400                20                 2021-03-03         2022-03-01        \n",
      "1028               Pen drive          600                100                2019-04-02         2021-12-01        \n",
      "1029               Ssd                5000               10                 2021-01-01         2025-01-02        \n",
      "1030               Hdd                5000               20                 2020-03-04         2025-04-04        \n"
     ]
    }
   ],
   "source": [
    "display()"
   ]
  },
  {
   "cell_type": "code",
   "execution_count": null,
   "id": "f86ba99f",
   "metadata": {},
   "outputs": [],
   "source": []
  }
 ],
 "metadata": {
  "kernelspec": {
   "display_name": "Python 3",
   "language": "python",
   "name": "python3"
  },
  "language_info": {
   "codemirror_mode": {
    "name": "ipython",
    "version": 3
   },
   "file_extension": ".py",
   "mimetype": "text/x-python",
   "name": "python",
   "nbconvert_exporter": "python",
   "pygments_lexer": "ipython3",
   "version": "3.8.8"
  }
 },
 "nbformat": 4,
 "nbformat_minor": 5
}
